{
 "cells": [
  {
   "cell_type": "code",
   "execution_count": null,
   "id": "4fa27f92",
   "metadata": {},
   "outputs": [],
   "source": [
    "import os\n",
    "\n",
    "import lm_eval\n",
    "\n",
    "from model_configurations import mixtral\n",
    "\n",
    "\n",
    "os.environ['HF_HOME'] = '/workspace/huggingface'\n",
    "\n",
    "HF_LEADERBOARD_TASKS = [\n",
    "    \"arc\",\n",
    "    \"gsm8k\",\n",
    "    \"hellaswag\",\n",
    "    \"mmlu\",\n",
    "    \"truthfulqa\",\n",
    "    \"winogrande\",\n",
    "]"
   ]
  },
  {
   "cell_type": "code",
   "execution_count": null,
   "metadata": {
    "lines_to_next_cell": 2
   },
   "outputs": [],
   "source": [
    "evalmodel = mixtral()\n",
    "\n",
    "lm_eval.simple_evaluate(\n",
    "    model=evalmodel,\n",
    "    tasks=HF_LEADERBOARD_TASKS,\n",
    ")"
   ]
  }
 ],
 "metadata": {
  "kernelspec": {
   "display_name": "karpathy",
   "language": "python",
   "name": "python3"
  },
  "language_info": {
   "name": "python",
   "version": "3.12.1"
  }
 },
 "nbformat": 4,
 "nbformat_minor": 2
}
